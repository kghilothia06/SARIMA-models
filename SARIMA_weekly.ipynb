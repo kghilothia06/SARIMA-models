{
  "nbformat": 4,
  "nbformat_minor": 0,
  "metadata": {
    "colab": {
      "name": "SARIMA_weekly.ipynb",
      "provenance": []
    },
    "kernelspec": {
      "name": "python3",
      "display_name": "Python 3"
    },
    "language_info": {
      "name": "python"
    }
  },
  "cells": [
    {
      "cell_type": "markdown",
      "source": [
        "Modifications:\n",
        "\n",
        "1. Created a Spark Session\n",
        "2. Replaced 'monthly' with 'weekly' everywhere\n",
        "3. used num_weeks in place of num_months"
      ],
      "metadata": {
        "id": "YU88fsSF7s5u"
      }
    },
    {
      "cell_type": "code",
      "execution_count": 1,
      "metadata": {
        "id": "okU6ehB-T3rF",
        "colab": {
          "base_uri": "https://localhost:8080/"
        },
        "outputId": "971c70ab-fdce-472f-f581-1b994da54e82"
      },
      "outputs": [
        {
          "output_type": "stream",
          "name": "stderr",
          "text": [
            "/usr/local/lib/python3.7/dist-packages/statsmodels/tools/_testing.py:19: FutureWarning: pandas.util.testing is deprecated. Use the functions in the public API at pandas.testing instead.\n",
            "  import pandas.util.testing as tm\n"
          ]
        }
      ],
      "source": [
        "import numpy as np\n",
        "import pandas as pd\n",
        "from pandas import read_csv\n",
        "from datetime import datetime\n",
        "from matplotlib import pyplot\n",
        "from statsmodels.tsa.statespace.sarimax import SARIMAX\n",
        "from sklearn.metrics import mean_squared_error\n",
        "from math import sqrt\n",
        "import warnings\n",
        "warnings.filterwarnings(\"ignore\")\n",
        "from sklearn.metrics import mean_absolute_error, mean_squared_error, r2_score\n",
        "\n",
        "# Create a Spark Session\n",
        "from pyspark.sql.session import SparkSession\n",
        "\n",
        "spark = SparkSession.builder.getOrCreate()"
      ]
    },
    {
      "cell_type": "code",
      "source": [
        "import time\n",
        "import os\n",
        "import pickle\n",
        "import sklearn"
      ],
      "metadata": {
        "id": "JflJXQVOUJLV"
      },
      "execution_count": 2,
      "outputs": []
    },
    {
      "cell_type": "code",
      "source": [
        "def mean_absolute_percentage_error(y_true, y_pred): \n",
        "  return np.mean(np.abs((y_true - y_pred) / y_true)) * 100\n",
        "def r_squared_train(y_test, y_pred, y_train):\n",
        "    rss = 0\n",
        "    tss = 0\n",
        "    mean = sum(y_train)/len(y_train)\n",
        "    for i in range(len(y_test)):\n",
        "        rss = rss + np.square(y_test[i] - y_pred[i])\n",
        "        tss = tss + np.square(y_test[i] - mean)\n",
        "    r_square = 1 - (rss/tss)\n",
        "    return r_square"
      ],
      "metadata": {
        "id": "ujqG58oVUOA_"
      },
      "execution_count": 3,
      "outputs": []
    },
    {
      "cell_type": "code",
      "source": [
        "revenue_weekly = spark.read.option(\"header\",True).csv(\"/content/RevenueSince2017Weekly.csv\")"
      ],
      "metadata": {
        "id": "TugTZTM-UN-g"
      },
      "execution_count": 4,
      "outputs": []
    },
    {
      "cell_type": "code",
      "source": [
        "display(revenue_weekly)"
      ],
      "metadata": {
        "colab": {
          "base_uri": "https://localhost:8080/",
          "height": 35
        },
        "id": "8oOlvGjpUN7B",
        "outputId": "8e98eb49-4f50-4f76-bcf6-34e539ac2301"
      },
      "execution_count": 5,
      "outputs": [
        {
          "output_type": "display_data",
          "data": {
            "text/plain": [
              "DataFrame[Year: string, Week: string, Revenue: string, Volume: string]"
            ]
          },
          "metadata": {}
        }
      ]
    },
    {
      "cell_type": "code",
      "source": [
        "lob = 'Total'"
      ],
      "metadata": {
        "id": "JQY1YdQ3UN48"
      },
      "execution_count": 6,
      "outputs": []
    },
    {
      "cell_type": "code",
      "source": [
        "revenue_weekly_df = revenue_weekly.toPandas()"
      ],
      "metadata": {
        "id": "60Ocq670UN2u"
      },
      "execution_count": 7,
      "outputs": []
    },
    {
      "cell_type": "code",
      "source": [
        "revenue_weekly_df['Year'] = revenue_weekly_df['Year'].astype(int)\n",
        "revenue_weekly_df['Week'] = revenue_weekly_df['Week'].astype(int)\n",
        "revenue_weekly_df['Revenue'] = revenue_weekly_df['Revenue'].astype(float)\n",
        "num_weeks = len(revenue_weekly_df)"
      ],
      "metadata": {
        "id": "aqrPsvVSUN0m"
      },
      "execution_count": 8,
      "outputs": []
    },
    {
      "cell_type": "code",
      "source": [
        "display(revenue_weekly_df)"
      ],
      "metadata": {
        "colab": {
          "base_uri": "https://localhost:8080/",
          "height": 424
        },
        "id": "JrjNPKZBUNx_",
        "outputId": "ce6d1eb7-8e5d-4f84-b6f6-19229f63780a"
      },
      "execution_count": 9,
      "outputs": [
        {
          "output_type": "display_data",
          "data": {
            "text/plain": [
              "     Year  Week     Revenue Volume\n",
              "0    2017     1    1494.762     13\n",
              "1    2017     2    3155.840     12\n",
              "2    2017     3   14501.530     43\n",
              "3    2017     4   10780.378     58\n",
              "4    2017     5   13961.837     68\n",
              "..    ...   ...         ...    ...\n",
              "274  2022    13  581314.822   3950\n",
              "275  2022    14  557168.606   3456\n",
              "276  2022    15  482892.386   2825\n",
              "277  2022    16  442427.949   2769\n",
              "278  2022    17  395192.559   2943\n",
              "\n",
              "[279 rows x 4 columns]"
            ],
            "text/html": [
              "\n",
              "  <div id=\"df-b60985f2-557e-4a9c-9fef-7ff3459d364c\">\n",
              "    <div class=\"colab-df-container\">\n",
              "      <div>\n",
              "<style scoped>\n",
              "    .dataframe tbody tr th:only-of-type {\n",
              "        vertical-align: middle;\n",
              "    }\n",
              "\n",
              "    .dataframe tbody tr th {\n",
              "        vertical-align: top;\n",
              "    }\n",
              "\n",
              "    .dataframe thead th {\n",
              "        text-align: right;\n",
              "    }\n",
              "</style>\n",
              "<table border=\"1\" class=\"dataframe\">\n",
              "  <thead>\n",
              "    <tr style=\"text-align: right;\">\n",
              "      <th></th>\n",
              "      <th>Year</th>\n",
              "      <th>Week</th>\n",
              "      <th>Revenue</th>\n",
              "      <th>Volume</th>\n",
              "    </tr>\n",
              "  </thead>\n",
              "  <tbody>\n",
              "    <tr>\n",
              "      <th>0</th>\n",
              "      <td>2017</td>\n",
              "      <td>1</td>\n",
              "      <td>1494.762</td>\n",
              "      <td>13</td>\n",
              "    </tr>\n",
              "    <tr>\n",
              "      <th>1</th>\n",
              "      <td>2017</td>\n",
              "      <td>2</td>\n",
              "      <td>3155.840</td>\n",
              "      <td>12</td>\n",
              "    </tr>\n",
              "    <tr>\n",
              "      <th>2</th>\n",
              "      <td>2017</td>\n",
              "      <td>3</td>\n",
              "      <td>14501.530</td>\n",
              "      <td>43</td>\n",
              "    </tr>\n",
              "    <tr>\n",
              "      <th>3</th>\n",
              "      <td>2017</td>\n",
              "      <td>4</td>\n",
              "      <td>10780.378</td>\n",
              "      <td>58</td>\n",
              "    </tr>\n",
              "    <tr>\n",
              "      <th>4</th>\n",
              "      <td>2017</td>\n",
              "      <td>5</td>\n",
              "      <td>13961.837</td>\n",
              "      <td>68</td>\n",
              "    </tr>\n",
              "    <tr>\n",
              "      <th>...</th>\n",
              "      <td>...</td>\n",
              "      <td>...</td>\n",
              "      <td>...</td>\n",
              "      <td>...</td>\n",
              "    </tr>\n",
              "    <tr>\n",
              "      <th>274</th>\n",
              "      <td>2022</td>\n",
              "      <td>13</td>\n",
              "      <td>581314.822</td>\n",
              "      <td>3950</td>\n",
              "    </tr>\n",
              "    <tr>\n",
              "      <th>275</th>\n",
              "      <td>2022</td>\n",
              "      <td>14</td>\n",
              "      <td>557168.606</td>\n",
              "      <td>3456</td>\n",
              "    </tr>\n",
              "    <tr>\n",
              "      <th>276</th>\n",
              "      <td>2022</td>\n",
              "      <td>15</td>\n",
              "      <td>482892.386</td>\n",
              "      <td>2825</td>\n",
              "    </tr>\n",
              "    <tr>\n",
              "      <th>277</th>\n",
              "      <td>2022</td>\n",
              "      <td>16</td>\n",
              "      <td>442427.949</td>\n",
              "      <td>2769</td>\n",
              "    </tr>\n",
              "    <tr>\n",
              "      <th>278</th>\n",
              "      <td>2022</td>\n",
              "      <td>17</td>\n",
              "      <td>395192.559</td>\n",
              "      <td>2943</td>\n",
              "    </tr>\n",
              "  </tbody>\n",
              "</table>\n",
              "<p>279 rows × 4 columns</p>\n",
              "</div>\n",
              "      <button class=\"colab-df-convert\" onclick=\"convertToInteractive('df-b60985f2-557e-4a9c-9fef-7ff3459d364c')\"\n",
              "              title=\"Convert this dataframe to an interactive table.\"\n",
              "              style=\"display:none;\">\n",
              "        \n",
              "  <svg xmlns=\"http://www.w3.org/2000/svg\" height=\"24px\"viewBox=\"0 0 24 24\"\n",
              "       width=\"24px\">\n",
              "    <path d=\"M0 0h24v24H0V0z\" fill=\"none\"/>\n",
              "    <path d=\"M18.56 5.44l.94 2.06.94-2.06 2.06-.94-2.06-.94-.94-2.06-.94 2.06-2.06.94zm-11 1L8.5 8.5l.94-2.06 2.06-.94-2.06-.94L8.5 2.5l-.94 2.06-2.06.94zm10 10l.94 2.06.94-2.06 2.06-.94-2.06-.94-.94-2.06-.94 2.06-2.06.94z\"/><path d=\"M17.41 7.96l-1.37-1.37c-.4-.4-.92-.59-1.43-.59-.52 0-1.04.2-1.43.59L10.3 9.45l-7.72 7.72c-.78.78-.78 2.05 0 2.83L4 21.41c.39.39.9.59 1.41.59.51 0 1.02-.2 1.41-.59l7.78-7.78 2.81-2.81c.8-.78.8-2.07 0-2.86zM5.41 20L4 18.59l7.72-7.72 1.47 1.35L5.41 20z\"/>\n",
              "  </svg>\n",
              "      </button>\n",
              "      \n",
              "  <style>\n",
              "    .colab-df-container {\n",
              "      display:flex;\n",
              "      flex-wrap:wrap;\n",
              "      gap: 12px;\n",
              "    }\n",
              "\n",
              "    .colab-df-convert {\n",
              "      background-color: #E8F0FE;\n",
              "      border: none;\n",
              "      border-radius: 50%;\n",
              "      cursor: pointer;\n",
              "      display: none;\n",
              "      fill: #1967D2;\n",
              "      height: 32px;\n",
              "      padding: 0 0 0 0;\n",
              "      width: 32px;\n",
              "    }\n",
              "\n",
              "    .colab-df-convert:hover {\n",
              "      background-color: #E2EBFA;\n",
              "      box-shadow: 0px 1px 2px rgba(60, 64, 67, 0.3), 0px 1px 3px 1px rgba(60, 64, 67, 0.15);\n",
              "      fill: #174EA6;\n",
              "    }\n",
              "\n",
              "    [theme=dark] .colab-df-convert {\n",
              "      background-color: #3B4455;\n",
              "      fill: #D2E3FC;\n",
              "    }\n",
              "\n",
              "    [theme=dark] .colab-df-convert:hover {\n",
              "      background-color: #434B5C;\n",
              "      box-shadow: 0px 1px 3px 1px rgba(0, 0, 0, 0.15);\n",
              "      filter: drop-shadow(0px 1px 2px rgba(0, 0, 0, 0.3));\n",
              "      fill: #FFFFFF;\n",
              "    }\n",
              "  </style>\n",
              "\n",
              "      <script>\n",
              "        const buttonEl =\n",
              "          document.querySelector('#df-b60985f2-557e-4a9c-9fef-7ff3459d364c button.colab-df-convert');\n",
              "        buttonEl.style.display =\n",
              "          google.colab.kernel.accessAllowed ? 'block' : 'none';\n",
              "\n",
              "        async function convertToInteractive(key) {\n",
              "          const element = document.querySelector('#df-b60985f2-557e-4a9c-9fef-7ff3459d364c');\n",
              "          const dataTable =\n",
              "            await google.colab.kernel.invokeFunction('convertToInteractive',\n",
              "                                                     [key], {});\n",
              "          if (!dataTable) return;\n",
              "\n",
              "          const docLinkHtml = 'Like what you see? Visit the ' +\n",
              "            '<a target=\"_blank\" href=https://colab.research.google.com/notebooks/data_table.ipynb>data table notebook</a>'\n",
              "            + ' to learn more about interactive tables.';\n",
              "          element.innerHTML = '';\n",
              "          dataTable['output_type'] = 'display_data';\n",
              "          await google.colab.output.renderOutput(dataTable, element);\n",
              "          const docLink = document.createElement('div');\n",
              "          docLink.innerHTML = docLinkHtml;\n",
              "          element.appendChild(docLink);\n",
              "        }\n",
              "      </script>\n",
              "    </div>\n",
              "  </div>\n",
              "  "
            ]
          },
          "metadata": {}
        }
      ]
    },
    {
      "cell_type": "markdown",
      "source": [
        "**Modification**:\n",
        "\n",
        "added 'week' (instead of 'month') as an arg below"
      ],
      "metadata": {
        "id": "GRLsBGpf8AU2"
      }
    },
    {
      "cell_type": "code",
      "source": [
        "def Insert_row_(row_number, df, year, week):\n",
        "    df1 = df[0:row_number]\n",
        "    df2 = df[row_number:]\n",
        "    df1.loc[row_number]=[year, week, 0]\n",
        "    df_result = pd.concat([df1, df2])\n",
        "    df_result.index = [*range(df_result.shape[0])]\n",
        "    return df_result"
      ],
      "metadata": {
        "id": "XfhWMf9TVIQV"
      },
      "execution_count": 10,
      "outputs": []
    },
    {
      "cell_type": "markdown",
      "source": [
        "**Modification:**\n",
        "\n",
        "1. count = 52\n"
      ],
      "metadata": {
        "id": "OpGtyiZk8Qnr"
      }
    },
    {
      "cell_type": "code",
      "source": [
        "start_year = revenue_weekly_df.iloc[0,1]\n",
        "start_week = revenue_weekly_df.iloc[0,2]\n",
        "count = 1\n",
        "for i in range(1,num_weeks):\n",
        "\n",
        "    if count == 52:\n",
        "        start_year = start_year + 1\n",
        "        start_week = 0\n",
        "        count = 0\n",
        "    if ((start_year == revenue_weekly_df.iloc[i,0]) and ((start_week + 1) != revenue_weekly_df.iloc[i,1])):\n",
        "        revenue_weekly_df = Insert_row_(i, revenue_weekly_df, start_year, start_week + 1)\n",
        "    start_week = start_week + 1\n",
        "    count = count + 1"
      ],
      "metadata": {
        "id": "GaubJ8TuVY55"
      },
      "execution_count": 11,
      "outputs": []
    },
    {
      "cell_type": "code",
      "source": [
        "display(revenue_weekly_df)\n"
      ],
      "metadata": {
        "colab": {
          "base_uri": "https://localhost:8080/",
          "height": 424
        },
        "id": "yxiTaKyuVvtx",
        "outputId": "51dd2611-8410-44f8-b6e9-034eb070ed9c"
      },
      "execution_count": 12,
      "outputs": [
        {
          "output_type": "display_data",
          "data": {
            "text/plain": [
              "     Year  Week     Revenue Volume\n",
              "0    2017     1    1494.762     13\n",
              "1    2017     2    3155.840     12\n",
              "2    2017     3   14501.530     43\n",
              "3    2017     4   10780.378     58\n",
              "4    2017     5   13961.837     68\n",
              "..    ...   ...         ...    ...\n",
              "274  2022    13  581314.822   3950\n",
              "275  2022    14  557168.606   3456\n",
              "276  2022    15  482892.386   2825\n",
              "277  2022    16  442427.949   2769\n",
              "278  2022    17  395192.559   2943\n",
              "\n",
              "[279 rows x 4 columns]"
            ],
            "text/html": [
              "\n",
              "  <div id=\"df-49e76ad9-cac2-4245-95ff-926d7ea2049f\">\n",
              "    <div class=\"colab-df-container\">\n",
              "      <div>\n",
              "<style scoped>\n",
              "    .dataframe tbody tr th:only-of-type {\n",
              "        vertical-align: middle;\n",
              "    }\n",
              "\n",
              "    .dataframe tbody tr th {\n",
              "        vertical-align: top;\n",
              "    }\n",
              "\n",
              "    .dataframe thead th {\n",
              "        text-align: right;\n",
              "    }\n",
              "</style>\n",
              "<table border=\"1\" class=\"dataframe\">\n",
              "  <thead>\n",
              "    <tr style=\"text-align: right;\">\n",
              "      <th></th>\n",
              "      <th>Year</th>\n",
              "      <th>Week</th>\n",
              "      <th>Revenue</th>\n",
              "      <th>Volume</th>\n",
              "    </tr>\n",
              "  </thead>\n",
              "  <tbody>\n",
              "    <tr>\n",
              "      <th>0</th>\n",
              "      <td>2017</td>\n",
              "      <td>1</td>\n",
              "      <td>1494.762</td>\n",
              "      <td>13</td>\n",
              "    </tr>\n",
              "    <tr>\n",
              "      <th>1</th>\n",
              "      <td>2017</td>\n",
              "      <td>2</td>\n",
              "      <td>3155.840</td>\n",
              "      <td>12</td>\n",
              "    </tr>\n",
              "    <tr>\n",
              "      <th>2</th>\n",
              "      <td>2017</td>\n",
              "      <td>3</td>\n",
              "      <td>14501.530</td>\n",
              "      <td>43</td>\n",
              "    </tr>\n",
              "    <tr>\n",
              "      <th>3</th>\n",
              "      <td>2017</td>\n",
              "      <td>4</td>\n",
              "      <td>10780.378</td>\n",
              "      <td>58</td>\n",
              "    </tr>\n",
              "    <tr>\n",
              "      <th>4</th>\n",
              "      <td>2017</td>\n",
              "      <td>5</td>\n",
              "      <td>13961.837</td>\n",
              "      <td>68</td>\n",
              "    </tr>\n",
              "    <tr>\n",
              "      <th>...</th>\n",
              "      <td>...</td>\n",
              "      <td>...</td>\n",
              "      <td>...</td>\n",
              "      <td>...</td>\n",
              "    </tr>\n",
              "    <tr>\n",
              "      <th>274</th>\n",
              "      <td>2022</td>\n",
              "      <td>13</td>\n",
              "      <td>581314.822</td>\n",
              "      <td>3950</td>\n",
              "    </tr>\n",
              "    <tr>\n",
              "      <th>275</th>\n",
              "      <td>2022</td>\n",
              "      <td>14</td>\n",
              "      <td>557168.606</td>\n",
              "      <td>3456</td>\n",
              "    </tr>\n",
              "    <tr>\n",
              "      <th>276</th>\n",
              "      <td>2022</td>\n",
              "      <td>15</td>\n",
              "      <td>482892.386</td>\n",
              "      <td>2825</td>\n",
              "    </tr>\n",
              "    <tr>\n",
              "      <th>277</th>\n",
              "      <td>2022</td>\n",
              "      <td>16</td>\n",
              "      <td>442427.949</td>\n",
              "      <td>2769</td>\n",
              "    </tr>\n",
              "    <tr>\n",
              "      <th>278</th>\n",
              "      <td>2022</td>\n",
              "      <td>17</td>\n",
              "      <td>395192.559</td>\n",
              "      <td>2943</td>\n",
              "    </tr>\n",
              "  </tbody>\n",
              "</table>\n",
              "<p>279 rows × 4 columns</p>\n",
              "</div>\n",
              "      <button class=\"colab-df-convert\" onclick=\"convertToInteractive('df-49e76ad9-cac2-4245-95ff-926d7ea2049f')\"\n",
              "              title=\"Convert this dataframe to an interactive table.\"\n",
              "              style=\"display:none;\">\n",
              "        \n",
              "  <svg xmlns=\"http://www.w3.org/2000/svg\" height=\"24px\"viewBox=\"0 0 24 24\"\n",
              "       width=\"24px\">\n",
              "    <path d=\"M0 0h24v24H0V0z\" fill=\"none\"/>\n",
              "    <path d=\"M18.56 5.44l.94 2.06.94-2.06 2.06-.94-2.06-.94-.94-2.06-.94 2.06-2.06.94zm-11 1L8.5 8.5l.94-2.06 2.06-.94-2.06-.94L8.5 2.5l-.94 2.06-2.06.94zm10 10l.94 2.06.94-2.06 2.06-.94-2.06-.94-.94-2.06-.94 2.06-2.06.94z\"/><path d=\"M17.41 7.96l-1.37-1.37c-.4-.4-.92-.59-1.43-.59-.52 0-1.04.2-1.43.59L10.3 9.45l-7.72 7.72c-.78.78-.78 2.05 0 2.83L4 21.41c.39.39.9.59 1.41.59.51 0 1.02-.2 1.41-.59l7.78-7.78 2.81-2.81c.8-.78.8-2.07 0-2.86zM5.41 20L4 18.59l7.72-7.72 1.47 1.35L5.41 20z\"/>\n",
              "  </svg>\n",
              "      </button>\n",
              "      \n",
              "  <style>\n",
              "    .colab-df-container {\n",
              "      display:flex;\n",
              "      flex-wrap:wrap;\n",
              "      gap: 12px;\n",
              "    }\n",
              "\n",
              "    .colab-df-convert {\n",
              "      background-color: #E8F0FE;\n",
              "      border: none;\n",
              "      border-radius: 50%;\n",
              "      cursor: pointer;\n",
              "      display: none;\n",
              "      fill: #1967D2;\n",
              "      height: 32px;\n",
              "      padding: 0 0 0 0;\n",
              "      width: 32px;\n",
              "    }\n",
              "\n",
              "    .colab-df-convert:hover {\n",
              "      background-color: #E2EBFA;\n",
              "      box-shadow: 0px 1px 2px rgba(60, 64, 67, 0.3), 0px 1px 3px 1px rgba(60, 64, 67, 0.15);\n",
              "      fill: #174EA6;\n",
              "    }\n",
              "\n",
              "    [theme=dark] .colab-df-convert {\n",
              "      background-color: #3B4455;\n",
              "      fill: #D2E3FC;\n",
              "    }\n",
              "\n",
              "    [theme=dark] .colab-df-convert:hover {\n",
              "      background-color: #434B5C;\n",
              "      box-shadow: 0px 1px 3px 1px rgba(0, 0, 0, 0.15);\n",
              "      filter: drop-shadow(0px 1px 2px rgba(0, 0, 0, 0.3));\n",
              "      fill: #FFFFFF;\n",
              "    }\n",
              "  </style>\n",
              "\n",
              "      <script>\n",
              "        const buttonEl =\n",
              "          document.querySelector('#df-49e76ad9-cac2-4245-95ff-926d7ea2049f button.colab-df-convert');\n",
              "        buttonEl.style.display =\n",
              "          google.colab.kernel.accessAllowed ? 'block' : 'none';\n",
              "\n",
              "        async function convertToInteractive(key) {\n",
              "          const element = document.querySelector('#df-49e76ad9-cac2-4245-95ff-926d7ea2049f');\n",
              "          const dataTable =\n",
              "            await google.colab.kernel.invokeFunction('convertToInteractive',\n",
              "                                                     [key], {});\n",
              "          if (!dataTable) return;\n",
              "\n",
              "          const docLinkHtml = 'Like what you see? Visit the ' +\n",
              "            '<a target=\"_blank\" href=https://colab.research.google.com/notebooks/data_table.ipynb>data table notebook</a>'\n",
              "            + ' to learn more about interactive tables.';\n",
              "          element.innerHTML = '';\n",
              "          dataTable['output_type'] = 'display_data';\n",
              "          await google.colab.output.renderOutput(dataTable, element);\n",
              "          const docLink = document.createElement('div');\n",
              "          docLink.innerHTML = docLinkHtml;\n",
              "          element.appendChild(docLink);\n",
              "        }\n",
              "      </script>\n",
              "    </div>\n",
              "  </div>\n",
              "  "
            ]
          },
          "metadata": {}
        }
      ]
    },
    {
      "cell_type": "code",
      "source": [
        "print(revenue_weekly_df.dtypes)"
      ],
      "metadata": {
        "colab": {
          "base_uri": "https://localhost:8080/"
        },
        "id": "ayhvfRo-V2Df",
        "outputId": "63605cef-8a18-450b-e70e-1e8cc8a37ca1"
      },
      "execution_count": 13,
      "outputs": [
        {
          "output_type": "stream",
          "name": "stdout",
          "text": [
            "Year         int64\n",
            "Week         int64\n",
            "Revenue    float64\n",
            "Volume      object\n",
            "dtype: object\n"
          ]
        }
      ]
    },
    {
      "cell_type": "code",
      "source": [
        "X = revenue_weekly_df['Revenue'].values\n",
        "x_axis_labels = []\n",
        "for i in range(num_weeks):\n",
        "    if revenue_weekly_df.iloc[i,1] == 1:\n",
        "        x_axis_labels.append(str(revenue_weekly_df.iloc[i,0]))\n",
        "    else:\n",
        "        x_axis_labels.append(' ')"
      ],
      "metadata": {
        "id": "at4jNCViV6ki"
      },
      "execution_count": 14,
      "outputs": []
    },
    {
      "cell_type": "code",
      "source": [
        "for i in range(len(revenue_weekly_df)):\n",
        "    if revenue_weekly_df.iloc[i,0] == 2022 and revenue_weekly_df.iloc[i,1] == 1:\n",
        "        size = i\n",
        "print(size)"
      ],
      "metadata": {
        "colab": {
          "base_uri": "https://localhost:8080/"
        },
        "id": "g_buhNGwWPE0",
        "outputId": "4644ed3b-eecd-4723-ee2f-55b352960c41"
      },
      "execution_count": 15,
      "outputs": [
        {
          "output_type": "stream",
          "name": "stdout",
          "text": [
            "262\n"
          ]
        }
      ]
    },
    {
      "cell_type": "code",
      "source": [
        "print(size)\n",
        "print(num_weeks)\n"
      ],
      "metadata": {
        "colab": {
          "base_uri": "https://localhost:8080/"
        },
        "id": "YViJb8TTWWtZ",
        "outputId": "e3c0e044-ae45-4154-d3fb-0176527ea0b6"
      },
      "execution_count": 16,
      "outputs": [
        {
          "output_type": "stream",
          "name": "stdout",
          "text": [
            "262\n",
            "279\n"
          ]
        }
      ]
    },
    {
      "cell_type": "code",
      "source": [
        "train = X[0:size]\n",
        "test = X[size:num_weeks+1]\n",
        "print(train)\n",
        "print(test)"
      ],
      "metadata": {
        "id": "Id_777B2WZdP",
        "colab": {
          "base_uri": "https://localhost:8080/"
        },
        "outputId": "400b7011-d93b-4979-8cf5-41526ca78aef"
      },
      "execution_count": 17,
      "outputs": [
        {
          "output_type": "stream",
          "name": "stdout",
          "text": [
            "[  1494.762   3155.84   14501.53   10780.378  13961.837  25163.07\n",
            "  19972.817  17382.296  23816.224  24582.266  20369.63   30358.911\n",
            "  17112.118  14081.062  19702.096  17033.784  16142.014  10473.603\n",
            "  25583.261  22974.166  30444.695  22155.655  41760.061  31514.365\n",
            "  23902.541  28401.262  25058.535  23199.434  18883.56   32461.399\n",
            "  33241.036  25233.55   27174.301  27643.899  23906.938  21083.225\n",
            "  25387.318  34226.956  43813.508  38395.986  35132.549  30218.064\n",
            "  37368.037  46694.504  46991.649  37679.79   36704.268  38468.654\n",
            "  38482.884  41199.26   27101.626  15250.794  29967.323  23968.077\n",
            "  35439.866  63213.22   73466.753 107433.88   86273.347 117785.052\n",
            " 105382.565 115219.75  125856.448 113355.341 142281.213 105331.888\n",
            "  93110.021  95130.174 120187.566  81604.239  90942.153  99432.885\n",
            "  96381.354 112416.7   108974.715 114839.508 107185.529 122930.085\n",
            " 155092.148 175075.813  98820.04  119048.027 129712.976 150759.699\n",
            " 130750.889  78625.325 109835.819 126875.827 123294.064 120120.334\n",
            " 139502.954 125108.448 148406.842 160048.92  136230.992 136399.158\n",
            " 137328.2   124836.182 139404.516 201835.81  162776.163 128046.605\n",
            " 115143.697 222190.122  75438.235  62731.655 100153.349 165673.881\n",
            " 202931.412 180483.831 220738.034 228394.886 257758.081 215155.558\n",
            " 275345.286 253108.309 269221.766 270320.238 296582.002 200137.07\n",
            " 181541.929 178770.422 161979.923 247860.257 238591.479 167135.068\n",
            " 198260.429 223376.187 228547.21  211994.19  183789.435 201839.539\n",
            " 145710.025 178685.375 173490.456 162584.736 106473.837 151040.287\n",
            " 157897.209 160136.728 175750.518 150676.449 203007.172 202837.157\n",
            " 144582.986 164089.334 182774.477 161693.733 155399.412 163008.524\n",
            " 196960.034 167097.489 164627.307 153418.68  142150.759  29229.271\n",
            "  36865.359  82722.924  56846.102 133284.995 168362.145 179477.912\n",
            " 194602.981 208847.859 199331.155 204611.29  266557.502 267788.968\n",
            " 214371.557 226951.512 211530.042 215421.328 231393.381 201938.252\n",
            " 271124.507 178994.252 202120.842 177705.25  176101.126 156678.725\n",
            " 188116.876 222151.152 165166.506 195357.905 179655.677 133150.447\n",
            " 167303.474 146724.836 169793.898 136745.091 166353.024 162114.613\n",
            " 185514.872 202588.564 192014.999 194052.236 213700.857 181623.997\n",
            " 254016.97  211599.553 192953.128 184866.936 203595.868 200929.215\n",
            " 179965.249 170875.842 144703.742  71307.992  51167.629 134444.419\n",
            " 150047.633 233111.454 217232.94  229408.322 571065.46  368250.138\n",
            " 409987.871 417177.689 406045.736 395759.47  388988.869 326679.735\n",
            " 339883.394 276604.129 316988.619 219360.03  274959.249 296476.727\n",
            " 257130.179 228017.851 185420.711 220406.102 235392.447 236465.592\n",
            " 215117.399 247732.636 211188.639 264197.075 208336.911 217355.287\n",
            " 197087.789 234665.957 180574.21  214451.664 203145.417 226443.021\n",
            " 234510.011 224662.392 231234.77  360148.545 258239.523 225492.516\n",
            " 220506.589 276589.582 265038.567 215411.487 235636.668 274784.381\n",
            " 266594.663   8857.404 130221.316   4020.214]\n",
            "[160192.393 350919.854 313135.562 386185.65  401318.501 478198.195\n",
            " 518781.125 535423.307 431613.975 589424.953 522121.635 639953.357\n",
            " 581314.822 557168.606 482892.386 442427.949 395192.559]\n"
          ]
        }
      ]
    },
    {
      "cell_type": "code",
      "source": [
        "history = [x for x in train]\n",
        "predictions = list()\n",
        "confidence_lower = list()\n",
        "confidence_upper = list()\n",
        "revenue_weekly_df['Date'] = revenue_weekly_df['Year'].map(str) + '-' + revenue_weekly_df['Week'].map(str)\n",
        "dates_train = revenue_weekly_df['Date'][0:size].values\n",
        "dates_test = revenue_weekly_df['Date'][size:num_weeks+1].values"
      ],
      "metadata": {
        "id": "wdg-AxWD6mbp"
      },
      "execution_count": 18,
      "outputs": []
    },
    {
      "cell_type": "code",
      "source": [
        "print(history)\n",
        "print(test)\n",
        "print(dates_train)\n",
        "print(dates_test)"
      ],
      "metadata": {
        "colab": {
          "base_uri": "https://localhost:8080/"
        },
        "id": "Y40q0jEm6mTN",
        "outputId": "eed0a3e2-683f-4652-ba3e-999ecad72d7c"
      },
      "execution_count": 19,
      "outputs": [
        {
          "output_type": "stream",
          "name": "stdout",
          "text": [
            "[1494.762, 3155.84, 14501.53, 10780.378, 13961.837, 25163.07, 19972.817, 17382.296, 23816.224, 24582.266, 20369.63, 30358.911, 17112.118, 14081.062, 19702.096, 17033.784, 16142.014, 10473.603, 25583.261, 22974.166, 30444.695, 22155.655, 41760.061, 31514.365, 23902.541, 28401.262, 25058.535, 23199.434, 18883.56, 32461.399, 33241.036, 25233.55, 27174.301, 27643.899, 23906.938, 21083.225, 25387.318, 34226.956, 43813.508, 38395.986, 35132.549, 30218.064, 37368.037, 46694.504, 46991.649, 37679.79, 36704.268, 38468.654, 38482.884, 41199.26, 27101.626, 15250.794, 29967.323, 23968.077, 35439.866, 63213.22, 73466.753, 107433.88, 86273.347, 117785.052, 105382.565, 115219.75, 125856.448, 113355.341, 142281.213, 105331.888, 93110.021, 95130.174, 120187.566, 81604.239, 90942.153, 99432.885, 96381.354, 112416.7, 108974.715, 114839.508, 107185.529, 122930.085, 155092.148, 175075.813, 98820.04, 119048.027, 129712.976, 150759.699, 130750.889, 78625.325, 109835.819, 126875.827, 123294.064, 120120.334, 139502.954, 125108.448, 148406.842, 160048.92, 136230.992, 136399.158, 137328.2, 124836.182, 139404.516, 201835.81, 162776.163, 128046.605, 115143.697, 222190.122, 75438.235, 62731.655, 100153.349, 165673.881, 202931.412, 180483.831, 220738.034, 228394.886, 257758.081, 215155.558, 275345.286, 253108.309, 269221.766, 270320.238, 296582.002, 200137.07, 181541.929, 178770.422, 161979.923, 247860.257, 238591.479, 167135.068, 198260.429, 223376.187, 228547.21, 211994.19, 183789.435, 201839.539, 145710.025, 178685.375, 173490.456, 162584.736, 106473.837, 151040.287, 157897.209, 160136.728, 175750.518, 150676.449, 203007.172, 202837.157, 144582.986, 164089.334, 182774.477, 161693.733, 155399.412, 163008.524, 196960.034, 167097.489, 164627.307, 153418.68, 142150.759, 29229.271, 36865.359, 82722.924, 56846.102, 133284.995, 168362.145, 179477.912, 194602.981, 208847.859, 199331.155, 204611.29, 266557.502, 267788.968, 214371.557, 226951.512, 211530.042, 215421.328, 231393.381, 201938.252, 271124.507, 178994.252, 202120.842, 177705.25, 176101.126, 156678.725, 188116.876, 222151.152, 165166.506, 195357.905, 179655.677, 133150.447, 167303.474, 146724.836, 169793.898, 136745.091, 166353.024, 162114.613, 185514.872, 202588.564, 192014.999, 194052.236, 213700.857, 181623.997, 254016.97, 211599.553, 192953.128, 184866.936, 203595.868, 200929.215, 179965.249, 170875.842, 144703.742, 71307.992, 51167.629, 134444.419, 150047.633, 233111.454, 217232.94, 229408.322, 571065.46, 368250.138, 409987.871, 417177.689, 406045.736, 395759.47, 388988.869, 326679.735, 339883.394, 276604.129, 316988.619, 219360.03, 274959.249, 296476.727, 257130.179, 228017.851, 185420.711, 220406.102, 235392.447, 236465.592, 215117.399, 247732.636, 211188.639, 264197.075, 208336.911, 217355.287, 197087.789, 234665.957, 180574.21, 214451.664, 203145.417, 226443.021, 234510.011, 224662.392, 231234.77, 360148.545, 258239.523, 225492.516, 220506.589, 276589.582, 265038.567, 215411.487, 235636.668, 274784.381, 266594.663, 8857.404, 130221.316, 4020.214]\n",
            "[160192.393 350919.854 313135.562 386185.65  401318.501 478198.195\n",
            " 518781.125 535423.307 431613.975 589424.953 522121.635 639953.357\n",
            " 581314.822 557168.606 482892.386 442427.949 395192.559]\n",
            "['2017-1' '2017-2' '2017-3' '2017-4' '2017-5' '2017-6' '2017-7' '2017-8'\n",
            " '2017-9' '2017-10' '2017-11' '2017-12' '2017-13' '2017-14' '2017-15'\n",
            " '2017-16' '2017-17' '2017-18' '2017-19' '2017-20' '2017-21' '2017-22'\n",
            " '2017-23' '2017-24' '2017-25' '2017-26' '2017-27' '2017-28' '2017-29'\n",
            " '2017-30' '2017-31' '2017-32' '2017-33' '2017-34' '2017-35' '2017-36'\n",
            " '2017-37' '2017-38' '2017-39' '2017-40' '2017-41' '2017-42' '2017-43'\n",
            " '2017-44' '2017-45' '2017-46' '2017-47' '2017-48' '2017-49' '2017-50'\n",
            " '2017-51' '2017-52' '2018-1' '2018-2' '2018-3' '2018-4' '2018-5' '2018-6'\n",
            " '2018-7' '2018-8' '2018-9' '2018-10' '2018-11' '2018-12' '2018-13'\n",
            " '2018-14' '2018-15' '2018-16' '2018-17' '2018-18' '2018-19' '2018-20'\n",
            " '2018-21' '2018-22' '2018-23' '2018-24' '2018-25' '2018-26' '2018-27'\n",
            " '2018-28' '2018-29' '2018-30' '2018-31' '2018-32' '2018-33' '2018-34'\n",
            " '2018-35' '2018-36' '2018-37' '2018-38' '2018-39' '2018-40' '2018-41'\n",
            " '2018-42' '2018-43' '2018-44' '2018-45' '2018-46' '2018-47' '2018-48'\n",
            " '2018-49' '2018-50' '2018-51' '2018-52' '2019-1' '2019-2' '2019-3'\n",
            " '2019-4' '2019-5' '2019-6' '2019-7' '2019-8' '2019-9' '2019-10' '2019-11'\n",
            " '2019-12' '2019-13' '2019-14' '2019-15' '2019-16' '2019-17' '2019-18'\n",
            " '2019-19' '2019-20' '2019-21' '2019-22' '2019-23' '2019-24' '2019-25'\n",
            " '2019-26' '2019-27' '2019-28' '2019-29' '2019-30' '2019-31' '2019-32'\n",
            " '2019-33' '2019-34' '2019-35' '2019-36' '2019-37' '2019-38' '2019-39'\n",
            " '2019-40' '2019-41' '2019-42' '2019-43' '2019-44' '2019-45' '2019-46'\n",
            " '2019-47' '2019-48' '2019-49' '2019-50' '2019-51' '2019-52' '2020-1'\n",
            " '2020-2' '2020-3' '2020-4' '2020-5' '2020-6' '2020-7' '2020-8' '2020-9'\n",
            " '2020-10' '2020-11' '2020-12' '2020-13' '2020-14' '2020-15' '2020-16'\n",
            " '2020-17' '2020-18' '2020-19' '2020-20' '2020-21' '2020-22' '2020-23'\n",
            " '2020-24' '2020-25' '2020-26' '2020-27' '2020-28' '2020-29' '2020-30'\n",
            " '2020-31' '2020-32' '2020-33' '2020-34' '2020-35' '2020-36' '2020-37'\n",
            " '2020-38' '2020-39' '2020-40' '2020-41' '2020-42' '2020-43' '2020-44'\n",
            " '2020-45' '2020-46' '2020-47' '2020-48' '2020-49' '2020-50' '2020-51'\n",
            " '2020-52' '2020-53' '2021-1' '2021-2' '2021-3' '2021-4' '2021-5' '2021-6'\n",
            " '2021-7' '2021-8' '2021-9' '2021-10' '2021-11' '2021-12' '2021-13'\n",
            " '2021-14' '2021-15' '2021-16' '2021-17' '2021-18' '2021-19' '2021-20'\n",
            " '2021-21' '2021-22' '2021-23' '2021-24' '2021-25' '2021-26' '2021-27'\n",
            " '2021-28' '2021-29' '2021-30' '2021-31' '2021-32' '2021-33' '2021-34'\n",
            " '2021-35' '2021-36' '2021-37' '2021-38' '2021-39' '2021-40' '2021-41'\n",
            " '2021-42' '2021-43' '2021-44' '2021-45' '2021-46' '2021-47' '2021-48'\n",
            " '2021-49' '2021-50' '2021-51' '2021-52' '2021-53']\n",
            "['2022-1' '2022-2' '2022-3' '2022-4' '2022-5' '2022-6' '2022-7' '2022-8'\n",
            " '2022-9' '2022-10' '2022-11' '2022-12' '2022-13' '2022-14' '2022-15'\n",
            " '2022-16' '2022-17']\n"
          ]
        }
      ]
    },
    {
      "cell_type": "markdown",
      "source": [
        "**Modifications:**\n",
        "\n",
        "1. last parameter in seasonal order is 52 because it is weekly data"
      ],
      "metadata": {
        "id": "QRu1CxLcAe9E"
      }
    },
    {
      "cell_type": "code",
      "source": [
        "for t in range(len(test)):\n",
        "        model = SARIMAX(history, order=(0,0,0), seasonal_order = (1, 1, 1, 52))\n",
        "        model_fit = model.fit(disp=0)\n",
        "        output = model_fit.forecast()\n",
        "        fcast = model_fit.get_forecast()\n",
        "        confidence_interval = fcast.conf_int(alpha=0.05)\n",
        "        yhat = output[0]\n",
        "        yhat = max(0, yhat)\n",
        "        confidence_lower.append(max(0,(int(confidence_interval[:,0][0]))))\n",
        "        confidence_upper.append(int(confidence_interval[:,1][0]))\n",
        "        predictions.append(int(yhat))\n",
        "        obs = test[t]\n",
        "        history.append(yhat)\n",
        "        #print('month=%s, predicted=%d, expected=%d, min conf=%d, max conf=%d' % (dates_test[t],yhat, obs, confidence_lower[t], confidence_upper[t]))\n",
        "# evaluate forecasts\n",
        "rmse = sqrt(mean_squared_error(test, predictions))\n",
        "print('Test RMSE: %d' % rmse)\n",
        "r_squared = r2_score(test, predictions)\n",
        "print('Test R-squared: %.2f' % r_squared)\n",
        "mae = mean_absolute_error(test, predictions)\n",
        "print('Test MAE: %d' % mae)\n",
        "mse = mean_squared_error(test, predictions)\n",
        "rmse = sqrt(mse)\n",
        "mape = mean_absolute_percentage_error(test, predictions)\n",
        "rev = revenue_weekly_df[\"Revenue\"]\n",
        "max_revenue = rev.max()\n",
        "avg_revenue = rev.mean()\n",
        "standardized_avg_mae = mae/avg_revenue\n",
        "standardized_avg_rmse = rmse/avg_revenue\n",
        "standardized_max_mae = mae/max_revenue\n",
        "standardized_max_rmse = rmse/max_revenue\n"
      ],
      "metadata": {
        "colab": {
          "base_uri": "https://localhost:8080/"
        },
        "id": "hLKA0nMp6mKZ",
        "outputId": "4fc2b33d-300c-4188-a831-52f97bf67bea"
      },
      "execution_count": 20,
      "outputs": [
        {
          "output_type": "stream",
          "name": "stdout",
          "text": [
            "Test RMSE: 145060\n",
            "Test R-squared: -0.59\n",
            "Test MAE: 119790\n"
          ]
        }
      ]
    },
    {
      "cell_type": "code",
      "source": [
        "# plot forecasts against actual outcomes\n",
        "pyplot.figure(figsize=(20, 7))\n",
        "pyplot.title(lob)\n",
        "pyplot.plot(dates_train, train, color = 'orange', label=\"Train\")\n",
        "pyplot.plot(dates_test, test, color = 'red', label=\"Test\")\n",
        "pyplot.plot(dates_test, predictions, color = 'blue', label=\"Predicted\")\n",
        "pyplot.legend(loc=\"upper left\")\n",
        "pyplot.fill_between(dates_test, confidence_upper , confidence_lower , alpha=.2)\n",
        "pyplot.xticks(np.arange(len(x_axis_labels)),x_axis_labels)\n",
        "pyplot.show()"
      ],
      "metadata": {
        "colab": {
          "base_uri": "https://localhost:8080/",
          "height": 444
        },
        "id": "jVAWRR1K9ICz",
        "outputId": "c77e4b0e-cc1e-4c6c-8695-181551c9e46e"
      },
      "execution_count": 21,
      "outputs": [
        {
          "output_type": "display_data",
          "data": {
            "text/plain": [
              "<Figure size 1440x504 with 1 Axes>"
            ],
            "image/png": "[encoded data removed]"
          },
          "metadata": {
            "needs_background": "light"
          }
        }
      ]
    },
    {
      "cell_type": "code",
      "source": [
        ""
      ],
      "metadata": {
        "id": "Knpydg0m9TJ_"
      },
      "execution_count": 21,
      "outputs": []
    }
  ]
}